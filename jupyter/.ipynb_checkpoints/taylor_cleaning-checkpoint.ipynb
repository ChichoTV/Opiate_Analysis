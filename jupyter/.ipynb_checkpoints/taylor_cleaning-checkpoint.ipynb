{
 "cells": [
  {
   "cell_type": "code",
   "execution_count": 1,
   "metadata": {},
   "outputs": [],
   "source": [
    "import pandas"
   ]
  },
  {
   "cell_type": "code",
   "execution_count": 2,
   "metadata": {},
   "outputs": [
    {
     "name": "stdout",
     "output_type": "stream",
     "text": [
      " Volume in drive C has no label.\n",
      " Volume Serial Number is 3A99-5DA7\n",
      "\n",
      " Directory of C:\\Users\\A\\Desktop\\UCD HW Repos\\Project2-Opiate_Analysis\\jupyter\n",
      "\n",
      "10/31/2020  12:23 PM    <DIR>          .\n",
      "10/31/2020  12:23 PM    <DIR>          ..\n",
      "10/31/2020  12:23 PM    <DIR>          .ipynb_checkpoints\n",
      "10/31/2020  12:23 PM                72 taylor_cleaning.ipynb\n",
      "               1 File(s)             72 bytes\n",
      "               3 Dir(s)  50,551,894,016 bytes free\n"
     ]
    }
   ],
   "source": [
    "pd.read_csv('data/../opioids.csv')"
   ]
  },
  {
   "cell_type": "code",
   "execution_count": null,
   "metadata": {},
   "outputs": [],
   "source": []
  }
 ],
 "metadata": {
  "kernelspec": {
   "display_name": "Python 3.7.6 64-bit ('base': conda)",
   "language": "python",
   "name": "python37664bitbasecondaabd722cf7d644cb7a9e67a3e156c5d8a"
  },
  "language_info": {
   "codemirror_mode": {
    "name": "ipython",
    "version": 3
   },
   "file_extension": ".py",
   "mimetype": "text/x-python",
   "name": "python",
   "nbconvert_exporter": "python",
   "pygments_lexer": "ipython3",
   "version": "3.7.6"
  }
 },
 "nbformat": 4,
 "nbformat_minor": 4
}
